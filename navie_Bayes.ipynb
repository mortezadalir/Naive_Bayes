{
 "cells": [
  {
   "cell_type": "code",
   "execution_count": 84,
   "id": "8967ae58",
   "metadata": {},
   "outputs": [
    {
     "data": {
      "text/plain": [
       "dict_keys(['target', 'filename', 'data', 'DESCR', 'feature_names', 'target_names'])"
      ]
     },
     "execution_count": 84,
     "metadata": {},
     "output_type": "execute_result"
    }
   ],
   "source": [
    "import numpy as np\n",
    "import matplotlib.pyplot as plt\n",
    "from sklearn.datasets import load_iris\n",
    "iris = load_iris()\n",
    "iris.keys()"
   ]
  },
  {
   "cell_type": "code",
   "execution_count": 88,
   "id": "5e4b4016",
   "metadata": {},
   "outputs": [
    {
     "data": {
      "text/plain": [
       "array(['setosa', 'versicolor', 'virginica'], dtype='<U10')"
      ]
     },
     "execution_count": 88,
     "metadata": {},
     "output_type": "execute_result"
    }
   ],
   "source": [
    "iris.target_names"
   ]
  },
  {
   "cell_type": "code",
   "execution_count": 2,
   "id": "47038c2e",
   "metadata": {},
   "outputs": [
    {
     "name": "stdout",
     "output_type": "stream",
     "text": [
      "[[5.1 3.5 1.4 0.2]\n",
      " [4.9 3.  1.4 0.2]\n",
      " [4.7 3.2 1.3 0.2]\n",
      " [4.6 3.1 1.5 0.2]\n",
      " [5.  3.6 1.4 0.2]\n",
      " [5.4 3.9 1.7 0.4]\n",
      " [4.6 3.4 1.4 0.3]\n",
      " [5.  3.4 1.5 0.2]\n",
      " [4.4 2.9 1.4 0.2]\n",
      " [4.9 3.1 1.5 0.1]\n",
      " [5.4 3.7 1.5 0.2]\n",
      " [4.8 3.4 1.6 0.2]\n",
      " [4.8 3.  1.4 0.1]\n",
      " [4.3 3.  1.1 0.1]\n",
      " [5.8 4.  1.2 0.2]\n",
      " [5.7 4.4 1.5 0.4]\n",
      " [5.4 3.9 1.3 0.4]\n",
      " [5.1 3.5 1.4 0.3]\n",
      " [5.7 3.8 1.7 0.3]\n",
      " [5.1 3.8 1.5 0.3]\n",
      " [5.4 3.4 1.7 0.2]\n",
      " [5.1 3.7 1.5 0.4]\n",
      " [4.6 3.6 1.  0.2]\n",
      " [5.1 3.3 1.7 0.5]\n",
      " [4.8 3.4 1.9 0.2]\n",
      " [5.  3.  1.6 0.2]\n",
      " [5.  3.4 1.6 0.4]\n",
      " [5.2 3.5 1.5 0.2]\n",
      " [5.2 3.4 1.4 0.2]\n",
      " [4.7 3.2 1.6 0.2]\n",
      " [4.8 3.1 1.6 0.2]\n",
      " [5.4 3.4 1.5 0.4]\n",
      " [5.2 4.1 1.5 0.1]\n",
      " [5.5 4.2 1.4 0.2]\n",
      " [4.9 3.1 1.5 0.2]\n",
      " [5.  3.2 1.2 0.2]\n",
      " [5.5 3.5 1.3 0.2]\n",
      " [4.9 3.6 1.4 0.1]\n",
      " [4.4 3.  1.3 0.2]\n",
      " [5.1 3.4 1.5 0.2]\n",
      " [5.  3.5 1.3 0.3]\n",
      " [4.5 2.3 1.3 0.3]\n",
      " [4.4 3.2 1.3 0.2]\n",
      " [5.  3.5 1.6 0.6]\n",
      " [5.1 3.8 1.9 0.4]\n",
      " [4.8 3.  1.4 0.3]\n",
      " [5.1 3.8 1.6 0.2]\n",
      " [4.6 3.2 1.4 0.2]\n",
      " [5.3 3.7 1.5 0.2]\n",
      " [5.  3.3 1.4 0.2]]\n",
      "[0 0 0 0 0 0 0 0 0 0 0 0 0 0 0 0 0 0 0 0 0 0 0 0 0 0 0 0 0 0 0 0 0 0 0 0 0\n",
      " 0 0 0 0 0 0 0 0 0 0 0 0 0]\n"
     ]
    }
   ],
   "source": [
    "print(iris.data[0:50,:])\n",
    "print(iris.target[0:50])"
   ]
  },
  {
   "cell_type": "code",
   "execution_count": 3,
   "id": "e5d81755",
   "metadata": {},
   "outputs": [],
   "source": [
    "def estimate_mean_cov(data):\n",
    "    data_mean=data.mean(0)\n",
    "    data_mean_zero=data-(data_mean)\n",
    "    data_cov=(1/len(data))*np.matmul(data_mean_zero.T,data_mean_zero)\n",
    "    return data_mean,data_cov\n",
    "\n",
    "\n",
    "    "
   ]
  },
  {
   "cell_type": "code",
   "execution_count": 4,
   "id": "358d4a6a",
   "metadata": {},
   "outputs": [],
   "source": [
    "def calculate_w_b(mean,cov):    \n",
    "    w=np.matmul(np.linalg.inv(cov),mean)\n",
    "    b1=np.matmul(mean.T,np.linalg.inv(cov))\n",
    "    b=(-0.5)*np.matmul(b1,mean)\n",
    "    return w,b"
   ]
  },
  {
   "cell_type": "code",
   "execution_count": 5,
   "id": "3c55a27d",
   "metadata": {},
   "outputs": [],
   "source": [
    "def plot_boundery(w,b):\n",
    "    x1=np.linspace(-8,12,1000)\n",
    "    x2=(-w[0]/w[1])*x1-(b/w[1])\n",
    "    plt.plot(x1,x2,\"black\")"
   ]
  },
  {
   "cell_type": "code",
   "execution_count": 6,
   "id": "ae59bdd6",
   "metadata": {},
   "outputs": [],
   "source": [
    "#x=3.5*np.random.randn(100,2)\n",
    "#y=4*np.random.randn(100,2)+4\n",
    "#np.linalg.det(cov_y)"
   ]
  },
  {
   "cell_type": "code",
   "execution_count": null,
   "id": "f17c4b82",
   "metadata": {},
   "outputs": [],
   "source": []
  },
  {
   "cell_type": "code",
   "execution_count": 90,
   "id": "6e8d5006",
   "metadata": {},
   "outputs": [],
   "source": [
    "mean_set,cov_set=estimate_mean_cov(iris.data[0:50,:])\n",
    "mean_ver,cov_ver=estimate_mean_cov(iris.data[50:100,:])\n",
    "mean_vir,cov_vir=estimate_mean_cov(iris.data[100:150,:])\n",
    "\n",
    "\n"
   ]
  },
  {
   "cell_type": "code",
   "execution_count": null,
   "id": "8c69f8ef",
   "metadata": {},
   "outputs": [],
   "source": []
  },
  {
   "cell_type": "code",
   "execution_count": 41,
   "id": "862fb5bf",
   "metadata": {},
   "outputs": [],
   "source": [
    "#plot_boundery(w,b)\n",
    "#plt.scatter(iris.data[0:100,0],iris.data[0:100,1])\n",
    "#plt.scatter(YY[:,0],YY[:,1])\n",
    "#plt.scatter(XX[:,0],XX[:,1])"
   ]
  },
  {
   "cell_type": "code",
   "execution_count": 35,
   "id": "0c844f5d",
   "metadata": {},
   "outputs": [],
   "source": [
    "XX = np.random.multivariate_normal(mean_x, cov_x, 200)\n",
    "YY= np.random.multivariate_normal(mean_y, cov_y, 200)"
   ]
  },
  {
   "cell_type": "code",
   "execution_count": 72,
   "id": "61e050f2",
   "metadata": {},
   "outputs": [],
   "source": [
    "i=0\n",
    "res1=np.zeros((100,))\n",
    "res2=np.zeros((100,))\n",
    "for item in iris.data[:100,:]:\n",
    "    xx=np.matmul((item-mean_x).T,cov_x)\n",
    "    res1[i]=np.matmul(xx,(item-mean_x))\n",
    "    yy=np.matmul((item-mean_y).T,cov_y)\n",
    "    res2[i]=np.matmul(yy,(item-mean_y))\n",
    "    i+=1\n"
   ]
  },
  {
   "cell_type": "code",
   "execution_count": 83,
   "id": "2fbda8a3",
   "metadata": {},
   "outputs": [
    {
     "data": {
      "text/plain": [
       "array([1, 1], dtype=int64)"
      ]
     },
     "execution_count": 83,
     "metadata": {},
     "output_type": "execute_result"
    }
   ],
   "source": [
    "xxr=np.array([[1,2],[4,10]])\n",
    "np.argmax((xxr),axis=1)"
   ]
  },
  {
   "cell_type": "code",
   "execution_count": 39,
   "id": "9c83f543",
   "metadata": {},
   "outputs": [
    {
     "data": {
      "text/plain": [
       "array([-8.        , -5.77777778, -3.55555556, -1.33333333,  0.88888889,\n",
       "        3.11111111,  5.33333333,  7.55555556,  9.77777778, 12.        ])"
      ]
     },
     "execution_count": 39,
     "metadata": {},
     "output_type": "execute_result"
    }
   ],
   "source": [
    "cov_x\n",
    "x1=np.linspace(-8,12,10)\n",
    "x1"
   ]
  }
 ],
 "metadata": {
  "kernelspec": {
   "display_name": "Python 3",
   "language": "python",
   "name": "python3"
  },
  "language_info": {
   "codemirror_mode": {
    "name": "ipython",
    "version": 3
   },
   "file_extension": ".py",
   "mimetype": "text/x-python",
   "name": "python",
   "nbconvert_exporter": "python",
   "pygments_lexer": "ipython3",
   "version": "3.5.1"
  }
 },
 "nbformat": 4,
 "nbformat_minor": 5
}
