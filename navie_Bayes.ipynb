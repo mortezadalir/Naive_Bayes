{
 "cells": [
  {
   "cell_type": "code",
   "execution_count": 271,
   "id": "7afb21f0",
   "metadata": {},
   "outputs": [],
   "source": [
    "import numpy as np\n",
    "import matplotlib.pyplot as plt\n",
    "from sklearn.datasets import load_iris\n",
    "iris = load_iris()"
   ]
  },
  {
   "cell_type": "code",
   "execution_count": 272,
   "id": "1e5f82eb",
   "metadata": {},
   "outputs": [],
   "source": [
    "def estimate_mean_cov(data):\n",
    "    data_mean=data.mean(0)\n",
    "    data_mean_zero=data-(data_mean)\n",
    "    data_cov=(1/len(data))*np.matmul(data_mean_zero.T,data_mean_zero)\n",
    "    return data_mean,data_cov\n",
    "\n",
    "\n",
    "    "
   ]
  },
  {
   "cell_type": "code",
   "execution_count": 273,
   "id": "45b6fe39",
   "metadata": {},
   "outputs": [],
   "source": [
    "def calculate_w_b(mean,cov):    \n",
    "    w=np.matmul(np.linalg.inv(cov),mean)\n",
    "    b1=np.matmul(mean.T,np.linalg.inv(cov))\n",
    "    b=(-0.5)*np.matmul(b1,mean)\n",
    "    return w,b"
   ]
  },
  {
   "cell_type": "code",
   "execution_count": 274,
   "id": "bc61f461",
   "metadata": {},
   "outputs": [],
   "source": [
    "def plot_boundri(w,b):\n",
    "    x1=np.linspace(-8,12,1000)\n",
    "    x2=(-w[0]/w[1])*x1-(b/w[1])\n",
    "    plt.plot(x1,x2,\"black\")"
   ]
  },
  {
   "cell_type": "code",
   "execution_count": 275,
   "id": "2f109aae",
   "metadata": {},
   "outputs": [
    {
     "data": {
      "text/plain": [
       "263.17695833471265"
      ]
     },
     "execution_count": 275,
     "metadata": {},
     "output_type": "execute_result"
    }
   ],
   "source": [
    "x=3.5*np.random.randn(100,2)\n",
    "y=4*np.random.randn(100,2)+4\n",
    "np.linalg.det(cov_y)"
   ]
  },
  {
   "cell_type": "code",
   "execution_count": 276,
   "id": "e9730b29",
   "metadata": {},
   "outputs": [],
   "source": [
    "mean_y,cov_y=estimate_mean_cov(y)\n",
    "w_y,b_y=calculate_w_b(mean_y,cov_y)\n",
    "mean_x,cov_x=estimate_mean_cov(x)\n",
    "w_x,b_x=calculate_w_b(mean_x,cov_x)\n",
    "w=w_x-w_y\n",
    "b=b_x-b_y"
   ]
  },
  {
   "cell_type": "code",
   "execution_count": 277,
   "id": "bfb53261",
   "metadata": {},
   "outputs": [
    {
     "data": {
      "image/png": "[encoded data removed]",
      "text/plain": [
       "<Figure size 432x288 with 1 Axes>"
      ]
     },
     "metadata": {
      "needs_background": "light"
     },
     "output_type": "display_data"
    }
   ],
   "source": [
    "plt.plot(x[:,0],x[:,1],'r*')\n",
    "plt.plot(y[:,0],y[:,1],'b*')\n",
    "plot_boundri(w,b)"
   ]
  }
 ],
 "metadata": {
  "kernelspec": {
   "display_name": "Python 3",
   "language": "python",
   "name": "python3"
  },
  "language_info": {
   "codemirror_mode": {
    "name": "ipython",
    "version": 3
   },
   "file_extension": ".py",
   "mimetype": "text/x-python",
   "name": "python",
   "nbconvert_exporter": "python",
   "pygments_lexer": "ipython3",
   "version": "3.5.1"
  }
 },
 "nbformat": 4,
 "nbformat_minor": 5
}
